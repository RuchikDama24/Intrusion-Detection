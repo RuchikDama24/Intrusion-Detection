{
  "nbformat": 4,
  "nbformat_minor": 0,
  "metadata": {
    "colab": {
      "name": "Model Inspection of UNSW-NB 15 Dataset Notebook - Attack Type Classification .ipynb",
      "provenance": [],
      "collapsed_sections": [
        "5weHjr9drkPp"
      ]
    },
    "kernelspec": {
      "display_name": "Python 3",
      "language": "python",
      "name": "python3"
    },
    "language_info": {
      "codemirror_mode": {
        "name": "ipython",
        "version": 3
      },
      "file_extension": ".py",
      "mimetype": "text/x-python",
      "name": "python",
      "nbconvert_exporter": "python",
      "pygments_lexer": "ipython3",
      "version": "3.7.6"
    },
    "toc": {
      "base_numbering": 1,
      "nav_menu": {},
      "number_sections": true,
      "sideBar": true,
      "skip_h1_title": false,
      "title_cell": "Table of Contents",
      "title_sidebar": "Contents",
      "toc_cell": false,
      "toc_position": {
        "height": "calc(100% - 180px)",
        "left": "10px",
        "top": "150px",
        "width": "332px"
      },
      "toc_section_display": true,
      "toc_window_display": true
    },
    "varInspector": {
      "cols": {
        "lenName": 16,
        "lenType": 16,
        "lenVar": 40
      },
      "kernels_config": {
        "python": {
          "delete_cmd_postfix": "",
          "delete_cmd_prefix": "del ",
          "library": "var_list.py",
          "varRefreshCmd": "print(var_dic_list())"
        },
        "r": {
          "delete_cmd_postfix": ") ",
          "delete_cmd_prefix": "rm(",
          "library": "var_list.r",
          "varRefreshCmd": "cat(var_dic_list()) "
        }
      },
      "types_to_exclude": [
        "module",
        "function",
        "builtin_function_or_method",
        "instance",
        "_Feature"
      ],
      "window_display": false
    }
  },
  "cells": [
    {
      "cell_type": "markdown",
      "metadata": {
        "id": "7ocQWVsirkNT"
      },
      "source": [
        "#  Attack Type Classification \n",
        "\n",
        "This notebook will implement several machine learning methods:\n",
        "\n",
        "- Logistic Regression\n",
        "- Decision Trees\n",
        "- Random Forest\n",
        "- Neural Networks: we will use Multi-layer perceptron.\n",
        "\n",
        "We decided to work on a project with pertinent implications in today’s world. Our project is titled “Malicious Activity and Intrusion Detection in Cyber Security Systems using Machine Learning”.   \n",
        "Our work involves a post-mortem analysis of cyber-attacks that have taken place, which in turn may  help greatly improve cybersecurity mitigation infrastructure of such attacks in real-time. Succinctly, our model performs the following two tasks:\n",
        "\n",
        "a.\tClassifies whether a transactional data is an attack or not'  \n",
        "b.\tIf it is an attack, then, which attack class, does it belong to.  \n",
        "Our model has been trained to distinguish between 9 different attack categories, which will be talked about below.\n",
        "\n",
        " \n",
        "\n"
      ]
    },
    {
      "cell_type": "markdown",
      "metadata": {
        "id": "cSzry1uZrkN6"
      },
      "source": [
        "# Libraries\n",
        "\n",
        "Import libraries to implement the described machine learning methods using a few different `sklearn` algorithms."
      ]
    },
    {
      "cell_type": "code",
      "metadata": {
        "id": "cpl0NpWSrkN9"
      },
      "source": [
        "# data cleaning and plots\n",
        "import pandas as pd\n",
        "import numpy as np\n",
        "import seaborn as sns\n",
        "import matplotlib.pyplot as plt\n",
        "plt.style.use('ggplot')\n",
        "%matplotlib inline\n",
        "\n",
        "# sklearn: data preprocessing\n",
        "from sklearn.compose import ColumnTransformer\n",
        "from sklearn.preprocessing import StandardScaler, LabelEncoder, OneHotEncoder\n",
        "\n",
        "# sklearn: train model\n",
        "from sklearn.model_selection import train_test_split\n",
        "from sklearn.model_selection import cross_val_score, cross_validate, StratifiedKFold\n",
        "from sklearn.metrics import precision_recall_curve, precision_score, recall_score, f1_score, accuracy_score\n",
        "from sklearn.metrics import roc_curve, auc, roc_auc_score, confusion_matrix, classification_report\n",
        "\n",
        "# sklearn classifiers\n",
        "from sklearn.linear_model import LogisticRegression\n",
        "from sklearn.tree import DecisionTreeClassifier\n",
        "from sklearn.ensemble import RandomForestClassifier\n",
        "from sklearn.neural_network import MLPClassifier\n",
        "from sklearn.svm import SVC"
      ],
      "execution_count": null,
      "outputs": []
    },
    {
      "cell_type": "markdown",
      "metadata": {
        "id": "eCd3Njg9rkOA"
      },
      "source": [
        "# Data Processing\n",
        "\n",
        "## Load Data\n",
        "\n",
        "The dataset that we used for our project is a dataset on intrusion detection systems called UNSW-NB15 created by University of New South Wales at the Australian Defence Force Academy. This dataset has a hybrid of real modern normal and contemporary synthesised attack activities of the network traffic.\n",
        "This dataset has nine types of attacks, namely, Fuzzers, Analysis, Backdoors, DoS, Exploits, Generic, Reconnaissance, Shellcode and Worms.   \n",
        "The total number of records in the dataset is 257,673.  \n",
        "The original dataset contained 45 features including the two target labels, ‘attack_cat’ and ‘label’. \n",
        "\n",
        "During data pre-processing, we have dropped 4 features: ‘id’, ‘proto’, ‘service’, ‘state’. After this step, we have a total of features for the model to learn on.  After pre-processing, none of the independent variables are categorical in nature. \n",
        "\n",
        "\n"
      ]
    },
    {
      "cell_type": "markdown",
      "metadata": {
        "id": "vv_pPq-JrkOC"
      },
      "source": [
        "## Response Variable:\n",
        "\n",
        "attack_cat: This dataset has types of attacks, namely, Fuzzers, Analysis, Backdoors, DoS, Exploits, Generic, Reconnaissance, Shellcode and Worms.\n",
        "\n",
        "Label: 0 for normal and 1 for attack records\n",
        "\n",
        "The attack_cat is our multi-class target column with 10 categories, including a ‘normal’ category. The column name ‘label’ is a binary column with 0’s and 1’s, where 0 indicates ‘normal transactional data’ and 1 indicates ‘attack records’.\n",
        "A basic strategy that we used to handle null-values in features is to discard entire rows and/or columns. The reason, we did not employ imputation techniques is because nearly 60% of the data points, in these columns were null or computationally inconsistent.\n"
      ]
    },
    {
      "cell_type": "code",
      "metadata": {
        "colab": {
          "resources": {
            "http://localhost:8080/nbextensions/google.colab/files.js": {
              "data": "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",
              "headers": [
                [
                  "content-type",
                  "application/javascript"
                ]
              ],
              "ok": true,
              "status": 200,
              "status_text": ""
            }
          },
          "base_uri": "https://localhost:8080/",
          "height": 106
        },
        "id": "XOwaZ4Hqrsr3",
        "outputId": "75297baf-e25c-4b3c-edcb-174ce4d28fc6"
      },
      "source": [
        "from google.colab import files\n",
        "uploaded = files.upload()"
      ],
      "execution_count": null,
      "outputs": [
        {
          "output_type": "display_data",
          "data": {
            "text/html": [
              "\n",
              "     <input type=\"file\" id=\"files-305a4c68-87c1-463b-8495-7cb1ae554ad8\" name=\"files[]\" multiple disabled\n",
              "        style=\"border:none\" />\n",
              "     <output id=\"result-305a4c68-87c1-463b-8495-7cb1ae554ad8\">\n",
              "      Upload widget is only available when the cell has been executed in the\n",
              "      current browser session. Please rerun this cell to enable.\n",
              "      </output>\n",
              "      <script src=\"/nbextensions/google.colab/files.js\"></script> "
            ],
            "text/plain": [
              "<IPython.core.display.HTML object>"
            ]
          },
          "metadata": {
            "tags": []
          }
        },
        {
          "output_type": "stream",
          "text": [
            "Saving UNSW_NB15_testing-set.csv to UNSW_NB15_testing-set (3).csv\n",
            "Saving UNSW_NB15_training-set.csv to UNSW_NB15_training-set (3).csv\n"
          ],
          "name": "stdout"
        }
      ]
    },
    {
      "cell_type": "code",
      "metadata": {
        "id": "aH1bEOGZrkOD"
      },
      "source": [
        "# Load data\n",
        "data = pd.read_csv('UNSW_NB15_training-set.csv')"
      ],
      "execution_count": null,
      "outputs": []
    },
    {
      "cell_type": "code",
      "metadata": {
        "colab": {
          "base_uri": "https://localhost:8080/",
          "height": 363
        },
        "id": "9ql1r9kerkOE",
        "outputId": "93949db3-c52d-44d2-b21b-f1fe35965f8c"
      },
      "source": [
        "# Look at the first 5 rows\n",
        "data.head(n=10)"
      ],
      "execution_count": null,
      "outputs": [
        {
          "output_type": "execute_result",
          "data": {
            "text/html": [
              "<div>\n",
              "<style scoped>\n",
              "    .dataframe tbody tr th:only-of-type {\n",
              "        vertical-align: middle;\n",
              "    }\n",
              "\n",
              "    .dataframe tbody tr th {\n",
              "        vertical-align: top;\n",
              "    }\n",
              "\n",
              "    .dataframe thead th {\n",
              "        text-align: right;\n",
              "    }\n",
              "</style>\n",
              "<table border=\"1\" class=\"dataframe\">\n",
              "  <thead>\n",
              "    <tr style=\"text-align: right;\">\n",
              "      <th></th>\n",
              "      <th>id</th>\n",
              "      <th>dur</th>\n",
              "      <th>proto</th>\n",
              "      <th>service</th>\n",
              "      <th>state</th>\n",
              "      <th>spkts</th>\n",
              "      <th>dpkts</th>\n",
              "      <th>sbytes</th>\n",
              "      <th>dbytes</th>\n",
              "      <th>rate</th>\n",
              "      <th>sttl</th>\n",
              "      <th>dttl</th>\n",
              "      <th>sload</th>\n",
              "      <th>dload</th>\n",
              "      <th>sloss</th>\n",
              "      <th>dloss</th>\n",
              "      <th>sinpkt</th>\n",
              "      <th>dinpkt</th>\n",
              "      <th>sjit</th>\n",
              "      <th>djit</th>\n",
              "      <th>swin</th>\n",
              "      <th>stcpb</th>\n",
              "      <th>dtcpb</th>\n",
              "      <th>dwin</th>\n",
              "      <th>tcprtt</th>\n",
              "      <th>synack</th>\n",
              "      <th>ackdat</th>\n",
              "      <th>smean</th>\n",
              "      <th>dmean</th>\n",
              "      <th>trans_depth</th>\n",
              "      <th>response_body_len</th>\n",
              "      <th>ct_srv_src</th>\n",
              "      <th>ct_state_ttl</th>\n",
              "      <th>ct_dst_ltm</th>\n",
              "      <th>ct_src_dport_ltm</th>\n",
              "      <th>ct_dst_sport_ltm</th>\n",
              "      <th>ct_dst_src_ltm</th>\n",
              "      <th>is_ftp_login</th>\n",
              "      <th>ct_ftp_cmd</th>\n",
              "      <th>ct_flw_http_mthd</th>\n",
              "      <th>ct_src_ltm</th>\n",
              "      <th>ct_srv_dst</th>\n",
              "      <th>is_sm_ips_ports</th>\n",
              "      <th>attack_cat</th>\n",
              "      <th>label</th>\n",
              "    </tr>\n",
              "  </thead>\n",
              "  <tbody>\n",
              "    <tr>\n",
              "      <th>0</th>\n",
              "      <td>1</td>\n",
              "      <td>0.121478</td>\n",
              "      <td>tcp</td>\n",
              "      <td>-</td>\n",
              "      <td>FIN</td>\n",
              "      <td>6</td>\n",
              "      <td>4</td>\n",
              "      <td>258</td>\n",
              "      <td>172</td>\n",
              "      <td>74.087490</td>\n",
              "      <td>252</td>\n",
              "      <td>254</td>\n",
              "      <td>14158.942380</td>\n",
              "      <td>8495.365234</td>\n",
              "      <td>0</td>\n",
              "      <td>0</td>\n",
              "      <td>24.295600</td>\n",
              "      <td>8.375000</td>\n",
              "      <td>30.177547</td>\n",
              "      <td>11.830604</td>\n",
              "      <td>255</td>\n",
              "      <td>621772692</td>\n",
              "      <td>2202533631</td>\n",
              "      <td>255</td>\n",
              "      <td>0.000000</td>\n",
              "      <td>0.000000</td>\n",
              "      <td>0.000000</td>\n",
              "      <td>43</td>\n",
              "      <td>43</td>\n",
              "      <td>0</td>\n",
              "      <td>0</td>\n",
              "      <td>1</td>\n",
              "      <td>0</td>\n",
              "      <td>1</td>\n",
              "      <td>1</td>\n",
              "      <td>1</td>\n",
              "      <td>1</td>\n",
              "      <td>0</td>\n",
              "      <td>0</td>\n",
              "      <td>0</td>\n",
              "      <td>1</td>\n",
              "      <td>1</td>\n",
              "      <td>0</td>\n",
              "      <td>Normal</td>\n",
              "      <td>0</td>\n",
              "    </tr>\n",
              "    <tr>\n",
              "      <th>1</th>\n",
              "      <td>2</td>\n",
              "      <td>0.649902</td>\n",
              "      <td>tcp</td>\n",
              "      <td>-</td>\n",
              "      <td>FIN</td>\n",
              "      <td>14</td>\n",
              "      <td>38</td>\n",
              "      <td>734</td>\n",
              "      <td>42014</td>\n",
              "      <td>78.473372</td>\n",
              "      <td>62</td>\n",
              "      <td>252</td>\n",
              "      <td>8395.112305</td>\n",
              "      <td>503571.312500</td>\n",
              "      <td>2</td>\n",
              "      <td>17</td>\n",
              "      <td>49.915000</td>\n",
              "      <td>15.432865</td>\n",
              "      <td>61.426934</td>\n",
              "      <td>1387.778330</td>\n",
              "      <td>255</td>\n",
              "      <td>1417884146</td>\n",
              "      <td>3077387971</td>\n",
              "      <td>255</td>\n",
              "      <td>0.000000</td>\n",
              "      <td>0.000000</td>\n",
              "      <td>0.000000</td>\n",
              "      <td>52</td>\n",
              "      <td>1106</td>\n",
              "      <td>0</td>\n",
              "      <td>0</td>\n",
              "      <td>43</td>\n",
              "      <td>1</td>\n",
              "      <td>1</td>\n",
              "      <td>1</td>\n",
              "      <td>1</td>\n",
              "      <td>2</td>\n",
              "      <td>0</td>\n",
              "      <td>0</td>\n",
              "      <td>0</td>\n",
              "      <td>1</td>\n",
              "      <td>6</td>\n",
              "      <td>0</td>\n",
              "      <td>Normal</td>\n",
              "      <td>0</td>\n",
              "    </tr>\n",
              "    <tr>\n",
              "      <th>2</th>\n",
              "      <td>3</td>\n",
              "      <td>1.623129</td>\n",
              "      <td>tcp</td>\n",
              "      <td>-</td>\n",
              "      <td>FIN</td>\n",
              "      <td>8</td>\n",
              "      <td>16</td>\n",
              "      <td>364</td>\n",
              "      <td>13186</td>\n",
              "      <td>14.170161</td>\n",
              "      <td>62</td>\n",
              "      <td>252</td>\n",
              "      <td>1572.271851</td>\n",
              "      <td>60929.230470</td>\n",
              "      <td>1</td>\n",
              "      <td>6</td>\n",
              "      <td>231.875571</td>\n",
              "      <td>102.737203</td>\n",
              "      <td>17179.586860</td>\n",
              "      <td>11420.926230</td>\n",
              "      <td>255</td>\n",
              "      <td>2116150707</td>\n",
              "      <td>2963114973</td>\n",
              "      <td>255</td>\n",
              "      <td>0.111897</td>\n",
              "      <td>0.061458</td>\n",
              "      <td>0.050439</td>\n",
              "      <td>46</td>\n",
              "      <td>824</td>\n",
              "      <td>0</td>\n",
              "      <td>0</td>\n",
              "      <td>7</td>\n",
              "      <td>1</td>\n",
              "      <td>2</td>\n",
              "      <td>1</td>\n",
              "      <td>1</td>\n",
              "      <td>3</td>\n",
              "      <td>0</td>\n",
              "      <td>0</td>\n",
              "      <td>0</td>\n",
              "      <td>2</td>\n",
              "      <td>6</td>\n",
              "      <td>0</td>\n",
              "      <td>Normal</td>\n",
              "      <td>0</td>\n",
              "    </tr>\n",
              "    <tr>\n",
              "      <th>3</th>\n",
              "      <td>4</td>\n",
              "      <td>1.681642</td>\n",
              "      <td>tcp</td>\n",
              "      <td>ftp</td>\n",
              "      <td>FIN</td>\n",
              "      <td>12</td>\n",
              "      <td>12</td>\n",
              "      <td>628</td>\n",
              "      <td>770</td>\n",
              "      <td>13.677108</td>\n",
              "      <td>62</td>\n",
              "      <td>252</td>\n",
              "      <td>2740.178955</td>\n",
              "      <td>3358.622070</td>\n",
              "      <td>1</td>\n",
              "      <td>3</td>\n",
              "      <td>152.876547</td>\n",
              "      <td>90.235726</td>\n",
              "      <td>259.080172</td>\n",
              "      <td>4991.784669</td>\n",
              "      <td>255</td>\n",
              "      <td>1107119177</td>\n",
              "      <td>1047442890</td>\n",
              "      <td>255</td>\n",
              "      <td>0.000000</td>\n",
              "      <td>0.000000</td>\n",
              "      <td>0.000000</td>\n",
              "      <td>52</td>\n",
              "      <td>64</td>\n",
              "      <td>0</td>\n",
              "      <td>0</td>\n",
              "      <td>1</td>\n",
              "      <td>1</td>\n",
              "      <td>2</td>\n",
              "      <td>1</td>\n",
              "      <td>1</td>\n",
              "      <td>3</td>\n",
              "      <td>1</td>\n",
              "      <td>1</td>\n",
              "      <td>0</td>\n",
              "      <td>2</td>\n",
              "      <td>1</td>\n",
              "      <td>0</td>\n",
              "      <td>Normal</td>\n",
              "      <td>0</td>\n",
              "    </tr>\n",
              "    <tr>\n",
              "      <th>4</th>\n",
              "      <td>5</td>\n",
              "      <td>0.449454</td>\n",
              "      <td>tcp</td>\n",
              "      <td>-</td>\n",
              "      <td>FIN</td>\n",
              "      <td>10</td>\n",
              "      <td>6</td>\n",
              "      <td>534</td>\n",
              "      <td>268</td>\n",
              "      <td>33.373826</td>\n",
              "      <td>254</td>\n",
              "      <td>252</td>\n",
              "      <td>8561.499023</td>\n",
              "      <td>3987.059814</td>\n",
              "      <td>2</td>\n",
              "      <td>1</td>\n",
              "      <td>47.750333</td>\n",
              "      <td>75.659602</td>\n",
              "      <td>2415.837634</td>\n",
              "      <td>115.807000</td>\n",
              "      <td>255</td>\n",
              "      <td>2436137549</td>\n",
              "      <td>1977154190</td>\n",
              "      <td>255</td>\n",
              "      <td>0.128381</td>\n",
              "      <td>0.071147</td>\n",
              "      <td>0.057234</td>\n",
              "      <td>53</td>\n",
              "      <td>45</td>\n",
              "      <td>0</td>\n",
              "      <td>0</td>\n",
              "      <td>43</td>\n",
              "      <td>1</td>\n",
              "      <td>2</td>\n",
              "      <td>2</td>\n",
              "      <td>1</td>\n",
              "      <td>40</td>\n",
              "      <td>0</td>\n",
              "      <td>0</td>\n",
              "      <td>0</td>\n",
              "      <td>2</td>\n",
              "      <td>39</td>\n",
              "      <td>0</td>\n",
              "      <td>Normal</td>\n",
              "      <td>0</td>\n",
              "    </tr>\n",
              "    <tr>\n",
              "      <th>5</th>\n",
              "      <td>6</td>\n",
              "      <td>0.380537</td>\n",
              "      <td>tcp</td>\n",
              "      <td>-</td>\n",
              "      <td>FIN</td>\n",
              "      <td>10</td>\n",
              "      <td>6</td>\n",
              "      <td>534</td>\n",
              "      <td>268</td>\n",
              "      <td>39.417980</td>\n",
              "      <td>254</td>\n",
              "      <td>252</td>\n",
              "      <td>10112.025390</td>\n",
              "      <td>4709.134766</td>\n",
              "      <td>2</td>\n",
              "      <td>1</td>\n",
              "      <td>39.928778</td>\n",
              "      <td>52.241000</td>\n",
              "      <td>2223.730342</td>\n",
              "      <td>82.550500</td>\n",
              "      <td>255</td>\n",
              "      <td>3984155503</td>\n",
              "      <td>1796040391</td>\n",
              "      <td>255</td>\n",
              "      <td>0.172934</td>\n",
              "      <td>0.119331</td>\n",
              "      <td>0.053603</td>\n",
              "      <td>53</td>\n",
              "      <td>45</td>\n",
              "      <td>0</td>\n",
              "      <td>0</td>\n",
              "      <td>43</td>\n",
              "      <td>1</td>\n",
              "      <td>2</td>\n",
              "      <td>2</td>\n",
              "      <td>1</td>\n",
              "      <td>40</td>\n",
              "      <td>0</td>\n",
              "      <td>0</td>\n",
              "      <td>0</td>\n",
              "      <td>2</td>\n",
              "      <td>39</td>\n",
              "      <td>0</td>\n",
              "      <td>Normal</td>\n",
              "      <td>0</td>\n",
              "    </tr>\n",
              "    <tr>\n",
              "      <th>6</th>\n",
              "      <td>7</td>\n",
              "      <td>0.637109</td>\n",
              "      <td>tcp</td>\n",
              "      <td>-</td>\n",
              "      <td>FIN</td>\n",
              "      <td>10</td>\n",
              "      <td>8</td>\n",
              "      <td>534</td>\n",
              "      <td>354</td>\n",
              "      <td>26.683033</td>\n",
              "      <td>254</td>\n",
              "      <td>252</td>\n",
              "      <td>6039.783203</td>\n",
              "      <td>3892.583740</td>\n",
              "      <td>2</td>\n",
              "      <td>1</td>\n",
              "      <td>68.267778</td>\n",
              "      <td>81.137711</td>\n",
              "      <td>4286.828570</td>\n",
              "      <td>119.422719</td>\n",
              "      <td>255</td>\n",
              "      <td>1787309226</td>\n",
              "      <td>1767180493</td>\n",
              "      <td>255</td>\n",
              "      <td>0.143337</td>\n",
              "      <td>0.069136</td>\n",
              "      <td>0.074201</td>\n",
              "      <td>53</td>\n",
              "      <td>44</td>\n",
              "      <td>0</td>\n",
              "      <td>0</td>\n",
              "      <td>43</td>\n",
              "      <td>1</td>\n",
              "      <td>1</td>\n",
              "      <td>1</td>\n",
              "      <td>1</td>\n",
              "      <td>40</td>\n",
              "      <td>0</td>\n",
              "      <td>0</td>\n",
              "      <td>0</td>\n",
              "      <td>1</td>\n",
              "      <td>39</td>\n",
              "      <td>0</td>\n",
              "      <td>Normal</td>\n",
              "      <td>0</td>\n",
              "    </tr>\n",
              "    <tr>\n",
              "      <th>7</th>\n",
              "      <td>8</td>\n",
              "      <td>0.521584</td>\n",
              "      <td>tcp</td>\n",
              "      <td>-</td>\n",
              "      <td>FIN</td>\n",
              "      <td>10</td>\n",
              "      <td>8</td>\n",
              "      <td>534</td>\n",
              "      <td>354</td>\n",
              "      <td>32.593026</td>\n",
              "      <td>254</td>\n",
              "      <td>252</td>\n",
              "      <td>7377.527344</td>\n",
              "      <td>4754.747070</td>\n",
              "      <td>2</td>\n",
              "      <td>1</td>\n",
              "      <td>55.794000</td>\n",
              "      <td>66.054141</td>\n",
              "      <td>3770.580726</td>\n",
              "      <td>118.962633</td>\n",
              "      <td>255</td>\n",
              "      <td>205985702</td>\n",
              "      <td>316006300</td>\n",
              "      <td>255</td>\n",
              "      <td>0.116615</td>\n",
              "      <td>0.059195</td>\n",
              "      <td>0.057420</td>\n",
              "      <td>53</td>\n",
              "      <td>44</td>\n",
              "      <td>0</td>\n",
              "      <td>0</td>\n",
              "      <td>43</td>\n",
              "      <td>1</td>\n",
              "      <td>3</td>\n",
              "      <td>3</td>\n",
              "      <td>1</td>\n",
              "      <td>40</td>\n",
              "      <td>0</td>\n",
              "      <td>0</td>\n",
              "      <td>0</td>\n",
              "      <td>3</td>\n",
              "      <td>39</td>\n",
              "      <td>0</td>\n",
              "      <td>Normal</td>\n",
              "      <td>0</td>\n",
              "    </tr>\n",
              "    <tr>\n",
              "      <th>8</th>\n",
              "      <td>9</td>\n",
              "      <td>0.542905</td>\n",
              "      <td>tcp</td>\n",
              "      <td>-</td>\n",
              "      <td>FIN</td>\n",
              "      <td>10</td>\n",
              "      <td>8</td>\n",
              "      <td>534</td>\n",
              "      <td>354</td>\n",
              "      <td>31.313031</td>\n",
              "      <td>254</td>\n",
              "      <td>252</td>\n",
              "      <td>7087.796387</td>\n",
              "      <td>4568.018555</td>\n",
              "      <td>2</td>\n",
              "      <td>1</td>\n",
              "      <td>60.210889</td>\n",
              "      <td>68.109000</td>\n",
              "      <td>4060.625597</td>\n",
              "      <td>106.611547</td>\n",
              "      <td>255</td>\n",
              "      <td>884094874</td>\n",
              "      <td>3410317203</td>\n",
              "      <td>255</td>\n",
              "      <td>0.118584</td>\n",
              "      <td>0.066133</td>\n",
              "      <td>0.052451</td>\n",
              "      <td>53</td>\n",
              "      <td>44</td>\n",
              "      <td>0</td>\n",
              "      <td>0</td>\n",
              "      <td>43</td>\n",
              "      <td>1</td>\n",
              "      <td>3</td>\n",
              "      <td>3</td>\n",
              "      <td>1</td>\n",
              "      <td>40</td>\n",
              "      <td>0</td>\n",
              "      <td>0</td>\n",
              "      <td>0</td>\n",
              "      <td>3</td>\n",
              "      <td>39</td>\n",
              "      <td>0</td>\n",
              "      <td>Normal</td>\n",
              "      <td>0</td>\n",
              "    </tr>\n",
              "    <tr>\n",
              "      <th>9</th>\n",
              "      <td>10</td>\n",
              "      <td>0.258687</td>\n",
              "      <td>tcp</td>\n",
              "      <td>-</td>\n",
              "      <td>FIN</td>\n",
              "      <td>10</td>\n",
              "      <td>6</td>\n",
              "      <td>534</td>\n",
              "      <td>268</td>\n",
              "      <td>57.985135</td>\n",
              "      <td>254</td>\n",
              "      <td>252</td>\n",
              "      <td>14875.120120</td>\n",
              "      <td>6927.291016</td>\n",
              "      <td>2</td>\n",
              "      <td>1</td>\n",
              "      <td>27.505111</td>\n",
              "      <td>39.106801</td>\n",
              "      <td>1413.686415</td>\n",
              "      <td>57.200395</td>\n",
              "      <td>255</td>\n",
              "      <td>3368447996</td>\n",
              "      <td>584859215</td>\n",
              "      <td>255</td>\n",
              "      <td>0.087934</td>\n",
              "      <td>0.063116</td>\n",
              "      <td>0.024818</td>\n",
              "      <td>53</td>\n",
              "      <td>45</td>\n",
              "      <td>0</td>\n",
              "      <td>0</td>\n",
              "      <td>43</td>\n",
              "      <td>1</td>\n",
              "      <td>3</td>\n",
              "      <td>3</td>\n",
              "      <td>1</td>\n",
              "      <td>40</td>\n",
              "      <td>0</td>\n",
              "      <td>0</td>\n",
              "      <td>0</td>\n",
              "      <td>3</td>\n",
              "      <td>39</td>\n",
              "      <td>0</td>\n",
              "      <td>Normal</td>\n",
              "      <td>0</td>\n",
              "    </tr>\n",
              "  </tbody>\n",
              "</table>\n",
              "</div>"
            ],
            "text/plain": [
              "   id       dur proto service  ... ct_srv_dst  is_sm_ips_ports  attack_cat  label\n",
              "0   1  0.121478   tcp       -  ...          1                0      Normal      0\n",
              "1   2  0.649902   tcp       -  ...          6                0      Normal      0\n",
              "2   3  1.623129   tcp       -  ...          6                0      Normal      0\n",
              "3   4  1.681642   tcp     ftp  ...          1                0      Normal      0\n",
              "4   5  0.449454   tcp       -  ...         39                0      Normal      0\n",
              "5   6  0.380537   tcp       -  ...         39                0      Normal      0\n",
              "6   7  0.637109   tcp       -  ...         39                0      Normal      0\n",
              "7   8  0.521584   tcp       -  ...         39                0      Normal      0\n",
              "8   9  0.542905   tcp       -  ...         39                0      Normal      0\n",
              "9  10  0.258687   tcp       -  ...         39                0      Normal      0\n",
              "\n",
              "[10 rows x 45 columns]"
            ]
          },
          "metadata": {
            "tags": []
          },
          "execution_count": 6
        }
      ]
    },
    {
      "cell_type": "code",
      "metadata": {
        "colab": {
          "base_uri": "https://localhost:8080/"
        },
        "id": "siK4zyDbrkOG",
        "outputId": "9cf660b1-fa19-4225-febc-8a525581645e"
      },
      "source": [
        "# information of the data: 583 data points, 10 features' columns and 1 target column\n",
        "data.info()"
      ],
      "execution_count": null,
      "outputs": [
        {
          "output_type": "stream",
          "text": [
            "<class 'pandas.core.frame.DataFrame'>\n",
            "RangeIndex: 175341 entries, 0 to 175340\n",
            "Data columns (total 45 columns):\n",
            " #   Column             Non-Null Count   Dtype  \n",
            "---  ------             --------------   -----  \n",
            " 0   id                 175341 non-null  int64  \n",
            " 1   dur                175341 non-null  float64\n",
            " 2   proto              175341 non-null  object \n",
            " 3   service            175341 non-null  object \n",
            " 4   state              175341 non-null  object \n",
            " 5   spkts              175341 non-null  int64  \n",
            " 6   dpkts              175341 non-null  int64  \n",
            " 7   sbytes             175341 non-null  int64  \n",
            " 8   dbytes             175341 non-null  int64  \n",
            " 9   rate               175341 non-null  float64\n",
            " 10  sttl               175341 non-null  int64  \n",
            " 11  dttl               175341 non-null  int64  \n",
            " 12  sload              175341 non-null  float64\n",
            " 13  dload              175341 non-null  float64\n",
            " 14  sloss              175341 non-null  int64  \n",
            " 15  dloss              175341 non-null  int64  \n",
            " 16  sinpkt             175341 non-null  float64\n",
            " 17  dinpkt             175341 non-null  float64\n",
            " 18  sjit               175341 non-null  float64\n",
            " 19  djit               175341 non-null  float64\n",
            " 20  swin               175341 non-null  int64  \n",
            " 21  stcpb              175341 non-null  int64  \n",
            " 22  dtcpb              175341 non-null  int64  \n",
            " 23  dwin               175341 non-null  int64  \n",
            " 24  tcprtt             175341 non-null  float64\n",
            " 25  synack             175341 non-null  float64\n",
            " 26  ackdat             175341 non-null  float64\n",
            " 27  smean              175341 non-null  int64  \n",
            " 28  dmean              175341 non-null  int64  \n",
            " 29  trans_depth        175341 non-null  int64  \n",
            " 30  response_body_len  175341 non-null  int64  \n",
            " 31  ct_srv_src         175341 non-null  int64  \n",
            " 32  ct_state_ttl       175341 non-null  int64  \n",
            " 33  ct_dst_ltm         175341 non-null  int64  \n",
            " 34  ct_src_dport_ltm   175341 non-null  int64  \n",
            " 35  ct_dst_sport_ltm   175341 non-null  int64  \n",
            " 36  ct_dst_src_ltm     175341 non-null  int64  \n",
            " 37  is_ftp_login       175341 non-null  int64  \n",
            " 38  ct_ftp_cmd         175341 non-null  int64  \n",
            " 39  ct_flw_http_mthd   175341 non-null  int64  \n",
            " 40  ct_src_ltm         175341 non-null  int64  \n",
            " 41  ct_srv_dst         175341 non-null  int64  \n",
            " 42  is_sm_ips_ports    175341 non-null  int64  \n",
            " 43  attack_cat         175341 non-null  object \n",
            " 44  label              175341 non-null  int64  \n",
            "dtypes: float64(11), int64(30), object(4)\n",
            "memory usage: 60.2+ MB\n"
          ],
          "name": "stdout"
        }
      ]
    },
    {
      "cell_type": "markdown",
      "metadata": {
        "id": "g5OcQP_2rkOH"
      },
      "source": [
        "## Tidy Data\n",
        "\n",
        "### Check missing values\n",
        "First, we should check if there are missing values in the dataset. "
      ]
    },
    {
      "cell_type": "code",
      "metadata": {
        "colab": {
          "base_uri": "https://localhost:8080/"
        },
        "id": "cnbjT-JErkOI",
        "outputId": "cb0dd6fa-6eab-4122-fd3e-dcd9b9f9d89b"
      },
      "source": [
        "# check if there are Null values\n",
        "data.isnull().sum()"
      ],
      "execution_count": null,
      "outputs": [
        {
          "output_type": "execute_result",
          "data": {
            "text/plain": [
              "id                   0\n",
              "dur                  0\n",
              "proto                0\n",
              "service              0\n",
              "state                0\n",
              "spkts                0\n",
              "dpkts                0\n",
              "sbytes               0\n",
              "dbytes               0\n",
              "rate                 0\n",
              "sttl                 0\n",
              "dttl                 0\n",
              "sload                0\n",
              "dload                0\n",
              "sloss                0\n",
              "dloss                0\n",
              "sinpkt               0\n",
              "dinpkt               0\n",
              "sjit                 0\n",
              "djit                 0\n",
              "swin                 0\n",
              "stcpb                0\n",
              "dtcpb                0\n",
              "dwin                 0\n",
              "tcprtt               0\n",
              "synack               0\n",
              "ackdat               0\n",
              "smean                0\n",
              "dmean                0\n",
              "trans_depth          0\n",
              "response_body_len    0\n",
              "ct_srv_src           0\n",
              "ct_state_ttl         0\n",
              "ct_dst_ltm           0\n",
              "ct_src_dport_ltm     0\n",
              "ct_dst_sport_ltm     0\n",
              "ct_dst_src_ltm       0\n",
              "is_ftp_login         0\n",
              "ct_ftp_cmd           0\n",
              "ct_flw_http_mthd     0\n",
              "ct_src_ltm           0\n",
              "ct_srv_dst           0\n",
              "is_sm_ips_ports      0\n",
              "attack_cat           0\n",
              "label                0\n",
              "dtype: int64"
            ]
          },
          "metadata": {
            "tags": []
          },
          "execution_count": 8
        }
      ]
    },
    {
      "cell_type": "code",
      "metadata": {
        "colab": {
          "base_uri": "https://localhost:8080/"
        },
        "id": "zpi_DMixrkOK",
        "outputId": "8525d51a-ed93-4194-97c4-e9260dd6a6b9"
      },
      "source": [
        "# Discard the rows with missing values\n",
        "data1 = data.dropna()\n",
        "\n",
        "# Shape of the data: we could see that the number of rows remains the same as no null values were reported\n",
        "data1.shape"
      ],
      "execution_count": null,
      "outputs": [
        {
          "output_type": "execute_result",
          "data": {
            "text/plain": [
              "(175341, 45)"
            ]
          },
          "metadata": {
            "tags": []
          },
          "execution_count": 9
        }
      ]
    },
    {
      "cell_type": "code",
      "metadata": {
        "id": "afGWzxzqrkOL"
      },
      "source": [
        "X = data1.drop(axis=1, columns=['attack_cat']) # X is a dataframe\n",
        "X = X.drop(axis=1, columns=['label'])\n",
        "\n",
        "y1 = data1['attack_cat'].values # y is an array\n",
        "y2 = data1['label'].values"
      ],
      "execution_count": null,
      "outputs": []
    },
    {
      "cell_type": "code",
      "metadata": {
        "colab": {
          "base_uri": "https://localhost:8080/",
          "height": 655
        },
        "id": "G4-C-35erkON",
        "outputId": "5d5c9225-7cd8-4a03-dfda-287df50a6ef2"
      },
      "source": [
        "plt.figure(figsize=(13,5))\n",
        "sns.countplot(y1,label=\"Sum\")\n",
        "plt.show()\n",
        "\n",
        "\n",
        "sns.countplot(y2,label=\"Sum\")\n",
        "plt.show()"
      ],
      "execution_count": null,
      "outputs": [
        {
          "output_type": "stream",
          "text": [
            "/usr/local/lib/python3.7/dist-packages/seaborn/_decorators.py:43: FutureWarning: Pass the following variable as a keyword arg: x. From version 0.12, the only valid positional argument will be `data`, and passing other arguments without an explicit keyword will result in an error or misinterpretation.\n",
            "  FutureWarning\n"
          ],
          "name": "stderr"
        },
        {
          "output_type": "display_data",
          "data": {
            "image/png": "[encoded data removed]",
            "text/plain": [
              "<Figure size 936x360 with 1 Axes>"
            ]
          },
          "metadata": {
            "tags": []
          }
        },
        {
          "output_type": "stream",
          "text": [
            "/usr/local/lib/python3.7/dist-packages/seaborn/_decorators.py:43: FutureWarning: Pass the following variable as a keyword arg: x. From version 0.12, the only valid positional argument will be `data`, and passing other arguments without an explicit keyword will result in an error or misinterpretation.\n",
            "  FutureWarning\n"
          ],
          "name": "stderr"
        },
        {
          "output_type": "display_data",
          "data": {
            "image/png": "[encoded data removed]",
            "text/plain": [
              "<Figure size 432x288 with 1 Axes>"
            ]
          },
          "metadata": {
            "tags": []
          }
        }
      ]
    },
    {
      "cell_type": "markdown",
      "metadata": {
        "id": "-i_GRoFDrkOO"
      },
      "source": [
        "We could see that the dataset is not perfectly balanced. There are some sampling techniques to deal with this issue. Here, we ignore this issue because we are aimed to implement several ML models to compare their performance. "
      ]
    },
    {
      "cell_type": "markdown",
      "metadata": {
        "id": "u4tGi6ZorkOP"
      },
      "source": [
        "The dataset has been split in a ratio of 70:30. The number of records in the training set is 175,341 records and the testing set is 82,332 records. "
      ]
    },
    {
      "cell_type": "code",
      "metadata": {
        "id": "HL1MfskdrkOZ"
      },
      "source": [
        "# Load data\n",
        "test_data = pd.read_csv('UNSW_NB15_testing-set.csv')\n",
        "X_test = test_data.drop(axis=1, columns=['attack_cat']) # X_test is a dataframe\n",
        "X_test = X_test.drop(axis=1, columns=['label'])\n",
        "\n",
        "y1_test = test_data['attack_cat'].values # y is an array\n",
        "y2_test = test_data['label'].values\n",
        "X_train = X\n",
        "y1_train = y1\n",
        "y2_train = y2"
      ],
      "execution_count": null,
      "outputs": []
    },
    {
      "cell_type": "markdown",
      "metadata": {
        "id": "-WUN2mo2rkOa"
      },
      "source": [
        "### Transform training and testing data\n",
        "\n",
        "#### Transformation on X_train, X_test\n",
        "\n",
        "Using StandardScaler() we have scaled the numerical values in the independent labels.  Next, we encode the target variable ‘attack_cat’. Since we have 10 categories (including ‘Normal’) in our target variable, we used Label Encoder to encode these categories. LabelEncoder is a utility class to help normalize labels such that they contain only values between 0 and number_of_classes-1. "
      ]
    },
    {
      "cell_type": "code",
      "metadata": {
        "id": "WSBNhKejrkOe"
      },
      "source": [
        "# determine categorical and numerical columns\n",
        "numerical_columns = X_train.select_dtypes(include=['int64', 'float64']).columns\n",
        "categorical_columns = X_train.select_dtypes(include=['object', 'bool']).columns"
      ],
      "execution_count": null,
      "outputs": []
    },
    {
      "cell_type": "code",
      "metadata": {
        "colab": {
          "base_uri": "https://localhost:8080/"
        },
        "id": "sna1k3QgrkOf",
        "outputId": "22282169-fa90-4c21-f381-de5855b0920f"
      },
      "source": [
        "numerical_columns\n",
        "numerical_columns=numerical_columns.drop('id')\n",
        "numerical_columns"
      ],
      "execution_count": null,
      "outputs": [
        {
          "output_type": "execute_result",
          "data": {
            "text/plain": [
              "Index(['dur', 'spkts', 'dpkts', 'sbytes', 'dbytes', 'rate', 'sttl', 'dttl',\n",
              "       'sload', 'dload', 'sloss', 'dloss', 'sinpkt', 'dinpkt', 'sjit', 'djit',\n",
              "       'swin', 'stcpb', 'dtcpb', 'dwin', 'tcprtt', 'synack', 'ackdat', 'smean',\n",
              "       'dmean', 'trans_depth', 'response_body_len', 'ct_srv_src',\n",
              "       'ct_state_ttl', 'ct_dst_ltm', 'ct_src_dport_ltm', 'ct_dst_sport_ltm',\n",
              "       'ct_dst_src_ltm', 'is_ftp_login', 'ct_ftp_cmd', 'ct_flw_http_mthd',\n",
              "       'ct_src_ltm', 'ct_srv_dst', 'is_sm_ips_ports'],\n",
              "      dtype='object')"
            ]
          },
          "metadata": {
            "tags": []
          },
          "execution_count": 14
        }
      ]
    },
    {
      "cell_type": "code",
      "metadata": {
        "colab": {
          "base_uri": "https://localhost:8080/"
        },
        "id": "dNoeCYmnrkOg",
        "outputId": "0e14d459-7622-4386-c410-d37206338cd2"
      },
      "source": [
        "categorical_columns"
      ],
      "execution_count": null,
      "outputs": [
        {
          "output_type": "execute_result",
          "data": {
            "text/plain": [
              "Index(['proto', 'service', 'state'], dtype='object')"
            ]
          },
          "metadata": {
            "tags": []
          },
          "execution_count": 15
        }
      ]
    },
    {
      "cell_type": "markdown",
      "metadata": {
        "id": "U8CilBx9rkOg"
      },
      "source": [
        "Then, we construct the `ColumnTransformer` object, and then fit it on training data."
      ]
    },
    {
      "cell_type": "code",
      "metadata": {
        "colab": {
          "base_uri": "https://localhost:8080/"
        },
        "id": "VZmlpx4hrkOh",
        "outputId": "e4a328e0-909c-4a13-ec00-85609c51404f"
      },
      "source": [
        "# define the transformation methods for the columns\n",
        "t = [('scale', StandardScaler(), numerical_columns)]\n",
        "\n",
        "col_trans = ColumnTransformer(transformers=t)\n",
        "\n",
        "# fit the transformation on training data\n",
        "col_trans.fit(X_train)"
      ],
      "execution_count": null,
      "outputs": [
        {
          "output_type": "execute_result",
          "data": {
            "text/plain": [
              "ColumnTransformer(n_jobs=None, remainder='drop', sparse_threshold=0.3,\n",
              "                  transformer_weights=None,\n",
              "                  transformers=[('scale',\n",
              "                                 StandardScaler(copy=True, with_mean=True,\n",
              "                                                with_std=True),\n",
              "                                 Index(['dur', 'spkts', 'dpkts', 'sbytes', 'dbytes', 'rate', 'sttl', 'dttl',\n",
              "       'sload', 'dload', 'sloss', 'dloss', 'sinpkt', 'dinpkt', 'sjit', 'djit',\n",
              "       'swin', 'stcpb', 'dtcpb', 'dwin', 'tcprtt', 'synack', 'ackdat', 'smean',\n",
              "       'dmean', 'trans_depth', 'response_body_len', 'ct_srv_src',\n",
              "       'ct_state_ttl', 'ct_dst_ltm', 'ct_src_dport_ltm', 'ct_dst_sport_ltm',\n",
              "       'ct_dst_src_ltm', 'is_ftp_login', 'ct_ftp_cmd', 'ct_flw_http_mthd',\n",
              "       'ct_src_ltm', 'ct_srv_dst', 'is_sm_ips_ports'],\n",
              "      dtype='object'))],\n",
              "                  verbose=False)"
            ]
          },
          "metadata": {
            "tags": []
          },
          "execution_count": 16
        }
      ]
    },
    {
      "cell_type": "code",
      "metadata": {
        "id": "NAUFIzLPrkOi"
      },
      "source": [
        "X_train_trans = col_trans.transform(X_train)"
      ],
      "execution_count": null,
      "outputs": []
    },
    {
      "cell_type": "code",
      "metadata": {
        "id": "uSWhHIU8rkOj"
      },
      "source": [
        "# apply transformation to both training and testing data \n",
        "# fit the transformation on training data"
      ],
      "execution_count": null,
      "outputs": []
    },
    {
      "cell_type": "code",
      "metadata": {
        "id": "-VrI7vGjrkOk"
      },
      "source": [
        "X_test_trans = col_trans.transform(X_test)"
      ],
      "execution_count": null,
      "outputs": []
    },
    {
      "cell_type": "code",
      "metadata": {
        "colab": {
          "base_uri": "https://localhost:8080/"
        },
        "id": "urJnJ13yrkOp",
        "outputId": "74714bca-87a1-42ff-b497-78d087393ab9"
      },
      "source": [
        "# look at the transformed training data\n",
        "X_train_trans.shape"
      ],
      "execution_count": null,
      "outputs": [
        {
          "output_type": "execute_result",
          "data": {
            "text/plain": [
              "(175341, 39)"
            ]
          },
          "metadata": {
            "tags": []
          },
          "execution_count": 20
        }
      ]
    },
    {
      "cell_type": "code",
      "metadata": {
        "colab": {
          "base_uri": "https://localhost:8080/"
        },
        "id": "r0ZfrqH8rkOs",
        "outputId": "365e325f-494e-4c2e-e249-63dd792aa7ac"
      },
      "source": [
        "X_test_trans.shape"
      ],
      "execution_count": null,
      "outputs": [
        {
          "output_type": "execute_result",
          "data": {
            "text/plain": [
              "(82332, 39)"
            ]
          },
          "metadata": {
            "tags": []
          },
          "execution_count": 21
        }
      ]
    },
    {
      "cell_type": "code",
      "metadata": {
        "colab": {
          "base_uri": "https://localhost:8080/"
        },
        "id": "wcryi1xMrkOv",
        "outputId": "cd2afbea-db10-49b5-8785-6a25bb638edc"
      },
      "source": [
        "# Note that the distinct values/labels in `y2` target are 1 and 2. \n",
        "pd.unique(y1)"
      ],
      "execution_count": null,
      "outputs": [
        {
          "output_type": "execute_result",
          "data": {
            "text/plain": [
              "array(['Normal', 'Backdoor', 'Analysis', 'Fuzzers', 'Shellcode',\n",
              "       'Reconnaissance', 'Exploits', 'DoS', 'Worms', 'Generic'],\n",
              "      dtype=object)"
            ]
          },
          "metadata": {
            "tags": []
          },
          "execution_count": 22
        }
      ]
    },
    {
      "cell_type": "markdown",
      "metadata": {
        "id": "-J8sCzPaN0dX"
      },
      "source": [
        "`LabelEncoder` is a utility class to help normalize labels such that they contain only values between 0 and n_classes-1. Note that the distinct values/labels in `attack-cat` target are  normal(0),Fuzzers(1), Analysis(2), Backdoors(3), DoS(4), Exploits(5), Generic(6), Reconnaissance(7), Shellcode(8) and Worms(9) .  we provide the `LabelEncoder` transformation which is a standard way of dealing with targeted values. Again, similar to the transformation on `X`, we will apply `fit` method to `y_train` and then apply `transform` method to both `y_train` and `y_test`. "
      ]
    },
    {
      "cell_type": "code",
      "metadata": {
        "colab": {
          "base_uri": "https://localhost:8080/"
        },
        "id": "nhUHBjKxrkOw",
        "outputId": "322c3751-a87d-4245-8d87-b62cb9ee6e63"
      },
      "source": [
        "# Define a LabelEncoder() transformation method and fit on y1_train\n",
        "target_label = LabelEncoder()\n",
        "target_label.fit(y1_train)"
      ],
      "execution_count": null,
      "outputs": [
        {
          "output_type": "execute_result",
          "data": {
            "text/plain": [
              "LabelEncoder()"
            ]
          },
          "metadata": {
            "tags": []
          },
          "execution_count": 23
        }
      ]
    },
    {
      "cell_type": "code",
      "metadata": {
        "id": "U0b-uOjQrkOw"
      },
      "source": [
        "# apply transformation method on y1_train and y1_test\n",
        "y1_train_trans = target_label.transform(y1_train)\n",
        "y1_test_trans = target_label.transform(y1_test)"
      ],
      "execution_count": null,
      "outputs": []
    },
    {
      "cell_type": "code",
      "metadata": {
        "colab": {
          "base_uri": "https://localhost:8080/"
        },
        "id": "CF_XnlD5rkOx",
        "outputId": "85119243-9fa9-4c86-bdbf-813e2d0d5fce"
      },
      "source": [
        "# view the transformed y1_train\n",
        "y1_train_trans"
      ],
      "execution_count": null,
      "outputs": [
        {
          "output_type": "execute_result",
          "data": {
            "text/plain": [
              "array([6, 6, 6, ..., 5, 5, 5])"
            ]
          },
          "metadata": {
            "tags": []
          },
          "execution_count": 25
        }
      ]
    },
    {
      "cell_type": "markdown",
      "metadata": {
        "id": "uum0i0bfrkOz"
      },
      "source": [
        "# Train ML Models\n",
        "\n",
        "We will train several machine learning models for the training set and evaluate their performance on both training and testing set. Before doing this, let's first go through a standard procedure of training a certain classifier.\n",
        "\n",
        "\n",
        "\n",
        "\n",
        "For Logistic Regression, we set the maximum iterations as 5000 as it ensured convergence.   \n",
        "For the MLP, we set the maximum iterations as 8000 as we were not getting convergence with 5000 iterations. We have used a learning rate of 0.0001. For the MLP classifier, we have used a ReLU activation function. Also from hw-3, we observed that using using Nesterov enabled the training are not as erratic. Using Nesterov seemed like the most stable approach and hence it has been enabled with Adam. Nesterov momentum is generally used with SGD, but it can be used with ADAM by replacing the previous momentum vector with the current momentum vector. "
      ]
    },
    {
      "cell_type": "markdown",
      "metadata": {
        "id": "E8cQdZy_rkPD"
      },
      "source": [
        "## Several ML Models\n",
        "\n",
        "We will implement several ML models through the above steps.  \n",
        "\n",
        "The followings are ML models functions: \n",
        "\n",
        "- `LogisticRegression()`\n",
        "- `DecisionTreeClassifier()`\n",
        "- `RandomForestClassifier()`\n",
        "- `MLPClassifier()`\n",
        "\n"
      ]
    },
    {
      "cell_type": "code",
      "metadata": {
        "id": "Equnl86krkPD"
      },
      "source": [
        "# Define four models\n",
        "models = [('LogisticRegression', LogisticRegression(random_state=123, max_iter=5000, multi_class = \"ovr\")),\n",
        "          ('Decision Tree', DecisionTreeClassifier(random_state=123)),\n",
        "          ('RandomForest', RandomForestClassifier(random_state=123)),\n",
        "          ('MultiLayerPerceptron', MLPClassifier(random_state=123, solver='adam', max_iter=8000))\n",
        "         ]"
      ],
      "execution_count": null,
      "outputs": []
    },
    {
      "cell_type": "markdown",
      "metadata": {
        "id": "6H7dW8JtrkPF"
      },
      "source": [
        "We could check the hyperparameters values in these models: "
      ]
    },
    {
      "cell_type": "code",
      "metadata": {
        "colab": {
          "base_uri": "https://localhost:8080/"
        },
        "id": "BaGR_XWPrkPF",
        "outputId": "50d965d9-41af-4c07-d081-0cbe5818a67a"
      },
      "source": [
        "for model_name, clf in models:\n",
        "    print(clf)"
      ],
      "execution_count": null,
      "outputs": [
        {
          "output_type": "stream",
          "text": [
            "LogisticRegression(C=1.0, class_weight=None, dual=False, fit_intercept=True,\n",
            "                   intercept_scaling=1, l1_ratio=None, max_iter=5000,\n",
            "                   multi_class='ovr', n_jobs=None, penalty='l2',\n",
            "                   random_state=123, solver='lbfgs', tol=0.0001, verbose=0,\n",
            "                   warm_start=False)\n",
            "DecisionTreeClassifier(ccp_alpha=0.0, class_weight=None, criterion='gini',\n",
            "                       max_depth=None, max_features=None, max_leaf_nodes=None,\n",
            "                       min_impurity_decrease=0.0, min_impurity_split=None,\n",
            "                       min_samples_leaf=1, min_samples_split=2,\n",
            "                       min_weight_fraction_leaf=0.0, presort='deprecated',\n",
            "                       random_state=123, splitter='best')\n",
            "RandomForestClassifier(bootstrap=True, ccp_alpha=0.0, class_weight=None,\n",
            "                       criterion='gini', max_depth=None, max_features='auto',\n",
            "                       max_leaf_nodes=None, max_samples=None,\n",
            "                       min_impurity_decrease=0.0, min_impurity_split=None,\n",
            "                       min_samples_leaf=1, min_samples_split=2,\n",
            "                       min_weight_fraction_leaf=0.0, n_estimators=100,\n",
            "                       n_jobs=None, oob_score=False, random_state=123,\n",
            "                       verbose=0, warm_start=False)\n",
            "MLPClassifier(activation='relu', alpha=0.0001, batch_size='auto', beta_1=0.9,\n",
            "              beta_2=0.999, early_stopping=False, epsilon=1e-08,\n",
            "              hidden_layer_sizes=(100,), learning_rate='constant',\n",
            "              learning_rate_init=0.001, max_fun=15000, max_iter=8000,\n",
            "              momentum=0.9, n_iter_no_change=10, nesterovs_momentum=True,\n",
            "              power_t=0.5, random_state=123, shuffle=True, solver='adam',\n",
            "              tol=0.0001, validation_fraction=0.1, verbose=False,\n",
            "              warm_start=False)\n"
          ],
          "name": "stdout"
        }
      ]
    },
    {
      "cell_type": "code",
      "metadata": {
        "id": "nmJXyl35-CVy"
      },
      "source": [
        "model_names = []\n",
        "cv_fit_time = []\n",
        "cv_accuracy = []\n",
        "cv_precision = []\n",
        "cv_recall = []\n",
        "cv_f1 = []\n",
        "\n",
        "\n",
        "test_accuracy = []\n",
        "test_precision = []\n",
        "test_recall = []\n",
        "test_f1 = []\n"
      ],
      "execution_count": null,
      "outputs": []
    },
    {
      "cell_type": "code",
      "metadata": {
        "id": "sbJ-aZCq-r43"
      },
      "source": [
        "clf=models[0][1]\n",
        "cv = StratifiedKFold(n_splits=5, shuffle=True, random_state=123)\n",
        "# define metrics for evaluating\n",
        "scoring = ['accuracy', 'precision_micro', 'recall_micro', 'f1_micro']\n",
        "# perform the 5-fold CV and get the metrics results\n",
        "cv_results = cross_validate(estimator=clf,\n",
        "                            X=X_train_trans,\n",
        "                            y=y1_train_trans,\n",
        "                            scoring=scoring,\n",
        "                            cv=cv,\n",
        "                            return_train_score=False)  # prevent to show the train scores on cv splits.\n",
        "\n",
        "# calculate the mean values of those scores\n",
        "cv_fit_time_mean = cv_results['fit_time'].mean()\n",
        "cv_accuracy_mean = cv_results['test_accuracy'].mean()\n",
        "cv_precision_mean = cv_results['test_precision_micro'].mean()\n",
        "cv_recall_mean = cv_results['test_recall_micro'].mean()\n",
        "cv_f1_mean = cv_results['test_f1_micro'].mean()\n",
        "#cv_roc_auc_mean = cv_results['test_roc_auc_ovr'].mean()\n",
        "\n",
        "# store CV results into those lists\n",
        "model_names.append(models[0][0])\n",
        "cv_fit_time.append(cv_fit_time_mean)\n",
        "cv_accuracy.append(cv_accuracy_mean)\n",
        "cv_precision.append(cv_precision_mean)\n",
        "cv_recall.append(cv_recall_mean)\n",
        "cv_f1.append(cv_f1_mean)\n",
        "\n",
        "# ==== Step 2: Evaluation on Testing data =====\n",
        "\n",
        "# fit model\n",
        "clf.fit(X=X_train_trans, y=y1_train_trans)\n",
        "\n",
        "# predition on testing data\n",
        "\n",
        "# predicted label or class\n",
        "y_pred_class = clf.predict(X=X_test_trans)  \n",
        "\n",
        "# predicted probability of the label 1\n",
        "y_pred_score = clf.predict_proba(X=X_test_trans)[:, 1]\n",
        "\n",
        "# accuracy\n",
        "accuracy_ontest = accuracy_score(y_true=y1_test_trans, y_pred=y_pred_class)\n",
        "\n",
        "\n",
        "\n",
        "# precision score\n",
        "precision_ontest = precision_score(y_true=y1_test_trans, y_pred=y_pred_class, average = 'micro')\n",
        "\n",
        "# recall score\n",
        "recall_ontest = recall_score(y_true=y1_test_trans, y_pred=y_pred_class, average = 'micro')\n",
        "\n",
        "# F1 score\n",
        "f1_ontest = f1_score(y_true=y1_test_trans, y_pred=y_pred_class, average = 'micro')\n",
        "\n",
        "\n",
        "\n",
        "# store the above values\n",
        "test_accuracy.append(accuracy_ontest)\n",
        "test_precision.append(precision_ontest)\n",
        "test_recall.append(recall_ontest)\n",
        "test_f1.append(f1_ontest)"
      ],
      "execution_count": null,
      "outputs": []
    },
    {
      "cell_type": "code",
      "metadata": {
        "id": "8RlHsZAB9tzN"
      },
      "source": [
        "clf=models[1][1]\n",
        "cv = StratifiedKFold(n_splits=5, shuffle=True, random_state=123)\n",
        "# define metrics for evaluating\n",
        "scoring = ['accuracy', 'precision_micro', 'recall_micro', 'f1_micro']\n",
        "# perform the 5-fold CV and get the metrics results\n",
        "cv_results = cross_validate(estimator=clf,\n",
        "                            X=X_train_trans,\n",
        "                            y=y1_train_trans,\n",
        "                            scoring=scoring,\n",
        "                            cv=cv,\n",
        "                            return_train_score=False)  # prevent to show the train scores on cv splits.\n",
        "\n",
        "# calculate the mean values of those scores\n",
        "cv_fit_time_mean = cv_results['fit_time'].mean()\n",
        "cv_accuracy_mean = cv_results['test_accuracy'].mean()\n",
        "cv_precision_mean = cv_results['test_precision_micro'].mean()\n",
        "cv_recall_mean = cv_results['test_recall_micro'].mean()\n",
        "cv_f1_mean = cv_results['test_f1_micro'].mean()\n",
        "\n",
        "# store CV results into those lists\n",
        "model_names.append(models[1][0])\n",
        "cv_fit_time.append(cv_fit_time_mean)\n",
        "cv_accuracy.append(cv_accuracy_mean)\n",
        "cv_precision.append(cv_precision_mean)\n",
        "cv_recall.append(cv_recall_mean)\n",
        "cv_f1.append(cv_f1_mean)\n",
        "\n",
        "# ==== Step 2: Evaluation on Testing data =====\n",
        "\n",
        "# fit model\n",
        "clf.fit(X=X_train_trans, y=y1_train_trans)\n",
        "\n",
        "# predition on testing data\n",
        "\n",
        "# predicted label or class\n",
        "y_pred_class = clf.predict(X=X_test_trans)  \n",
        "\n",
        "# predicted probability of the label 1\n",
        "y_pred_score = clf.predict_proba(X=X_test_trans)[:, 1]\n",
        "\n",
        "# accuracy\n",
        "accuracy_ontest = accuracy_score(y_true=y1_test_trans, y_pred=y_pred_class)\n",
        "\n",
        "\n",
        "\n",
        "# precision score\n",
        "precision_ontest = precision_score(y_true=y1_test_trans, y_pred=y_pred_class, average = 'micro')\n",
        "\n",
        "# recall score\n",
        "recall_ontest = recall_score(y_true=y1_test_trans, y_pred=y_pred_class, average = 'micro')\n",
        "\n",
        "# F1 score\n",
        "f1_ontest = f1_score(y_true=y1_test_trans, y_pred=y_pred_class, average = 'micro')\n",
        "\n",
        "\n",
        "\n",
        "# store the above values\n",
        "test_accuracy.append(accuracy_ontest)\n",
        "test_precision.append(precision_ontest)\n",
        "test_recall.append(recall_ontest)\n",
        "test_f1.append(f1_ontest)"
      ],
      "execution_count": null,
      "outputs": []
    },
    {
      "cell_type": "code",
      "metadata": {
        "id": "ncBwcQV6-Yk8"
      },
      "source": [
        "clf=models[2][1]\n",
        "cv = StratifiedKFold(n_splits=5, shuffle=True, random_state=123)\n",
        "# define metrics for evaluating\n",
        "scoring = ['accuracy', 'precision_micro', 'recall_micro', 'f1_micro']\n",
        "# perform the 5-fold CV and get the metrics results\n",
        "cv_results = cross_validate(estimator=clf,\n",
        "                            X=X_train_trans,\n",
        "                            y=y1_train_trans,\n",
        "                            scoring=scoring,\n",
        "                            cv=cv,\n",
        "                            return_train_score=False)  # prevent to show the train scores on cv splits.\n",
        " \n",
        "# calculate the mean values of those scores\n",
        "cv_fit_time_mean = cv_results['fit_time'].mean()\n",
        "cv_accuracy_mean = cv_results['test_accuracy'].mean()\n",
        "cv_precision_mean = cv_results['test_precision_micro'].mean()\n",
        "cv_recall_mean = cv_results['test_recall_micro'].mean()\n",
        "cv_f1_mean = cv_results['test_f1_micro'].mean()\n",
        " \n",
        "# store CV results into those lists\n",
        "model_names.append(models[2][0])\n",
        "cv_fit_time.append(cv_fit_time_mean)\n",
        "cv_accuracy.append(cv_accuracy_mean)\n",
        "cv_precision.append(cv_precision_mean)\n",
        "cv_recall.append(cv_recall_mean)\n",
        "cv_f1.append(cv_f1_mean)\n",
        " \n",
        " \n",
        "# ==== Step 2: Evaluation on Testing data =====\n",
        " \n",
        "# fit model\n",
        "clf.fit(X=X_train_trans, y=y1_train_trans)\n",
        " \n",
        "# predition on testing data\n",
        " \n",
        "# predicted label or class\n",
        "y_pred_class = clf.predict(X=X_test_trans)  \n",
        " \n",
        "# predicted probability of the label 1\n",
        "y_pred_score = clf.predict_proba(X=X_test_trans)[:, 1]\n",
        " \n",
        "# accuracy\n",
        "accuracy_ontest = accuracy_score(y_true=y1_test_trans, y_pred=y_pred_class)\n",
        " \n",
        " \n",
        " \n",
        "# precision score\n",
        "precision_ontest = precision_score(y_true=y1_test_trans, y_pred=y_pred_class, average = 'micro')\n",
        " \n",
        "# recall score\n",
        "recall_ontest = recall_score(y_true=y1_test_trans, y_pred=y_pred_class, average = 'micro')\n",
        " \n",
        "# F1 score\n",
        "f1_ontest = f1_score(y_true=y1_test_trans, y_pred=y_pred_class, average = 'micro')\n",
        " \n",
        " \n",
        " \n",
        "# store the above values\n",
        "test_accuracy.append(accuracy_ontest)\n",
        "test_precision.append(precision_ontest)\n",
        "test_recall.append(recall_ontest)\n",
        "test_f1.append(f1_ontest)"
      ],
      "execution_count": null,
      "outputs": []
    },
    {
      "cell_type": "code",
      "metadata": {
        "colab": {
          "background_save": true
        },
        "id": "K7ussuAl__-M"
      },
      "source": [
        "# ==== Step 1: Cross-validation =====\n",
        "clf=models[3][1]\n",
        "# define  Stratified 5-fold cross-validator\n",
        "cv = StratifiedKFold(n_splits=5, shuffle=True, random_state=123)\n",
        "# define metrics for evaluating\n",
        "scoring = ['accuracy', 'precision_micro', 'recall_micro', 'f1_micro']\n",
        "# perform the 5-fold CV and get the metrics results\n",
        "cv_results = cross_validate(estimator=clf,\n",
        "                            X=X_train_trans,\n",
        "                            y=y1_train_trans,\n",
        "                            scoring=scoring,\n",
        "                            cv=cv,\n",
        "                            return_train_score=False)  # prevent to show the train scores on cv splits.\n",
        "\n",
        "# calculate the mean values of those scores\n",
        "cv_fit_time_mean = cv_results['fit_time'].mean()\n",
        "cv_accuracy_mean = cv_results['test_accuracy'].mean()\n",
        "cv_precision_mean = cv_results['test_precision_micro'].mean()\n",
        "cv_recall_mean = cv_results['test_recall_micro'].mean()\n",
        "cv_f1_mean = cv_results['test_f1_micro'].mean()\n",
        "\n",
        "# store CV results into those lists\n",
        "model_names.append(models[3][0])\n",
        "cv_fit_time.append(cv_fit_time_mean)\n",
        "cv_accuracy.append(cv_accuracy_mean)\n",
        "cv_precision.append(cv_precision_mean)\n",
        "cv_recall.append(cv_recall_mean)\n",
        "cv_f1.append(cv_f1_mean)\n",
        "\n",
        "# ==== Step 2: Evaluation on Testing data =====\n",
        "\n",
        "# fit model\n",
        "clf.fit(X=X_train_trans, y=y1_train_trans)\n",
        "\n",
        "# predition on testing data\n",
        "\n",
        "# predicted label or class\n",
        "y_pred_class = clf.predict(X=X_test_trans)  \n",
        "\n",
        "# predicted probability of the label 1\n",
        "y_pred_score = clf.predict_proba(X=X_test_trans)[:, 1]\n",
        "\n",
        "# accuracy\n",
        "accuracy_ontest = accuracy_score(y_true=y1_test_trans, y_pred=y_pred_class)\n",
        "\n",
        "\n",
        "# precision score\n",
        "precision_ontest = precision_score(y_true=y1_test_trans, y_pred=y_pred_class, average = 'micro')\n",
        "\n",
        "# recall score\n",
        "recall_ontest = recall_score(y_true=y1_test_trans, y_pred=y_pred_class, average = 'micro')\n",
        "\n",
        "# F1 score\n",
        "f1_ontest = f1_score(y_true=y1_test_trans, y_pred=y_pred_class, average = 'micro')\n",
        "\n",
        "# store the above values\n",
        "test_accuracy.append(accuracy_ontest)\n",
        "test_precision.append(precision_ontest)\n",
        "test_recall.append(recall_ontest)\n",
        "test_f1.append(f1_ontest)\n"
      ],
      "execution_count": null,
      "outputs": []
    },
    {
      "cell_type": "code",
      "metadata": {
        "colab": {
          "base_uri": "https://localhost:8080/"
        },
        "id": "rtVTAVHBcnhk",
        "outputId": "20fd3cf7-a697-4bcd-d493-668e2a8eb219"
      },
      "source": [
        "cv_fit_time"
      ],
      "execution_count": 39,
      "outputs": [
        {
          "output_type": "execute_result",
          "data": {
            "text/plain": [
              "[105.11342434883117, 2.9578063011169435, 34.69174418449402, 298.66550989151]"
            ]
          },
          "metadata": {
            "tags": []
          },
          "execution_count": 39
        }
      ]
    },
    {
      "cell_type": "markdown",
      "metadata": {
        "id": "bNbC8TiJrkPJ"
      },
      "source": [
        "### Model Comparison\n",
        "\n",
        "We've stored CV results and evaluation results of testing data for the three ML models. Then, we could create a dataframe to view them."
      ]
    },
    {
      "cell_type": "code",
      "metadata": {
        "colab": {
          "base_uri": "https://localhost:8080/",
          "height": 166
        },
        "id": "w53gwEjJrkPQ",
        "outputId": "b2c22156-a40c-49be-bbd7-00a1247242e7"
      },
      "source": [
        "results = {'Model Name': [\"Logistic Regression\",\"Decision Tree\",\"Random Forest\",\"MP Classifier\"],\n",
        "                'CV Fit Time': cv_fit_time,\n",
        "                'CV Accuracy mean': cv_accuracy,\n",
        "                'CV Precision mean': cv_precision,\n",
        "                'CV Recall mean': cv_recall,\n",
        "                'CV F1 mean': cv_f1,\n",
        "                #'CV AUC mean': cv_roc_auc_mean_list,\n",
        "                'Test Accuracy': test_accuracy,\n",
        "                'Test Precision': test_precision,\n",
        "                'Test Recall': test_recall,\n",
        "                'Test F1': test_f1,\n",
        "                #'Test AUC': test_roc_auc_list\n",
        "                }\n",
        "\n",
        "results = pd.DataFrame(results)\n",
        "\n",
        "# sort the results according to F1 score on testing data\n",
        "results.sort_values(by='Test F1', ascending=False)"
      ],
      "execution_count": 41,
      "outputs": [
        {
          "output_type": "execute_result",
          "data": {
            "text/html": [
              "<div>\n",
              "<style scoped>\n",
              "    .dataframe tbody tr th:only-of-type {\n",
              "        vertical-align: middle;\n",
              "    }\n",
              "\n",
              "    .dataframe tbody tr th {\n",
              "        vertical-align: top;\n",
              "    }\n",
              "\n",
              "    .dataframe thead th {\n",
              "        text-align: right;\n",
              "    }\n",
              "</style>\n",
              "<table border=\"1\" class=\"dataframe\">\n",
              "  <thead>\n",
              "    <tr style=\"text-align: right;\">\n",
              "      <th></th>\n",
              "      <th>Model Name</th>\n",
              "      <th>CV Fit Time</th>\n",
              "      <th>CV Accuracy mean</th>\n",
              "      <th>CV Precision mean</th>\n",
              "      <th>CV Recall mean</th>\n",
              "      <th>CV F1 mean</th>\n",
              "      <th>Test Accuracy</th>\n",
              "      <th>Test Precision</th>\n",
              "      <th>Test Recall</th>\n",
              "      <th>Test F1</th>\n",
              "    </tr>\n",
              "  </thead>\n",
              "  <tbody>\n",
              "    <tr>\n",
              "      <th>2</th>\n",
              "      <td>Random Forest</td>\n",
              "      <td>34.691744</td>\n",
              "      <td>0.828141</td>\n",
              "      <td>0.828141</td>\n",
              "      <td>0.828141</td>\n",
              "      <td>0.828141</td>\n",
              "      <td>0.756255</td>\n",
              "      <td>0.756255</td>\n",
              "      <td>0.756255</td>\n",
              "      <td>0.756255</td>\n",
              "    </tr>\n",
              "    <tr>\n",
              "      <th>1</th>\n",
              "      <td>Decision Tree</td>\n",
              "      <td>2.957806</td>\n",
              "      <td>0.809594</td>\n",
              "      <td>0.809594</td>\n",
              "      <td>0.809594</td>\n",
              "      <td>0.809594</td>\n",
              "      <td>0.738935</td>\n",
              "      <td>0.738935</td>\n",
              "      <td>0.738935</td>\n",
              "      <td>0.738935</td>\n",
              "    </tr>\n",
              "    <tr>\n",
              "      <th>3</th>\n",
              "      <td>MP Classifier</td>\n",
              "      <td>298.665510</td>\n",
              "      <td>0.809514</td>\n",
              "      <td>0.809514</td>\n",
              "      <td>0.809514</td>\n",
              "      <td>0.809514</td>\n",
              "      <td>0.701938</td>\n",
              "      <td>0.701938</td>\n",
              "      <td>0.701938</td>\n",
              "      <td>0.701938</td>\n",
              "    </tr>\n",
              "    <tr>\n",
              "      <th>0</th>\n",
              "      <td>Logistic Regression</td>\n",
              "      <td>105.113424</td>\n",
              "      <td>0.739268</td>\n",
              "      <td>0.739268</td>\n",
              "      <td>0.739268</td>\n",
              "      <td>0.739268</td>\n",
              "      <td>0.633472</td>\n",
              "      <td>0.633472</td>\n",
              "      <td>0.633472</td>\n",
              "      <td>0.633472</td>\n",
              "    </tr>\n",
              "  </tbody>\n",
              "</table>\n",
              "</div>"
            ],
            "text/plain": [
              "            Model Name  CV Fit Time  ...  Test Recall   Test F1\n",
              "2        Random Forest    34.691744  ...     0.756255  0.756255\n",
              "1        Decision Tree     2.957806  ...     0.738935  0.738935\n",
              "3        MP Classifier   298.665510  ...     0.701938  0.701938\n",
              "0  Logistic Regression   105.113424  ...     0.633472  0.633472\n",
              "\n",
              "[4 rows x 10 columns]"
            ]
          },
          "metadata": {
            "tags": []
          },
          "execution_count": 41
        }
      ]
    },
    {
      "cell_type": "code",
      "metadata": {
        "colab": {
          "base_uri": "https://localhost:8080/",
          "height": 166
        },
        "id": "J4G6gZqESaJ-",
        "outputId": "42c9e8d6-200f-44c1-b6ca-745a423e9299"
      },
      "source": [
        "results.sort_values(by='Test F1', ascending=False)"
      ],
      "execution_count": 42,
      "outputs": [
        {
          "output_type": "execute_result",
          "data": {
            "text/html": [
              "<div>\n",
              "<style scoped>\n",
              "    .dataframe tbody tr th:only-of-type {\n",
              "        vertical-align: middle;\n",
              "    }\n",
              "\n",
              "    .dataframe tbody tr th {\n",
              "        vertical-align: top;\n",
              "    }\n",
              "\n",
              "    .dataframe thead th {\n",
              "        text-align: right;\n",
              "    }\n",
              "</style>\n",
              "<table border=\"1\" class=\"dataframe\">\n",
              "  <thead>\n",
              "    <tr style=\"text-align: right;\">\n",
              "      <th></th>\n",
              "      <th>Model Name</th>\n",
              "      <th>CV Fit Time</th>\n",
              "      <th>CV Accuracy mean</th>\n",
              "      <th>CV Precision mean</th>\n",
              "      <th>CV Recall mean</th>\n",
              "      <th>CV F1 mean</th>\n",
              "      <th>Test Accuracy</th>\n",
              "      <th>Test Precision</th>\n",
              "      <th>Test Recall</th>\n",
              "      <th>Test F1</th>\n",
              "    </tr>\n",
              "  </thead>\n",
              "  <tbody>\n",
              "    <tr>\n",
              "      <th>2</th>\n",
              "      <td>Random Forest</td>\n",
              "      <td>34.691744</td>\n",
              "      <td>0.828141</td>\n",
              "      <td>0.828141</td>\n",
              "      <td>0.828141</td>\n",
              "      <td>0.828141</td>\n",
              "      <td>0.756255</td>\n",
              "      <td>0.756255</td>\n",
              "      <td>0.756255</td>\n",
              "      <td>0.756255</td>\n",
              "    </tr>\n",
              "    <tr>\n",
              "      <th>1</th>\n",
              "      <td>Decision Tree</td>\n",
              "      <td>2.957806</td>\n",
              "      <td>0.809594</td>\n",
              "      <td>0.809594</td>\n",
              "      <td>0.809594</td>\n",
              "      <td>0.809594</td>\n",
              "      <td>0.738935</td>\n",
              "      <td>0.738935</td>\n",
              "      <td>0.738935</td>\n",
              "      <td>0.738935</td>\n",
              "    </tr>\n",
              "    <tr>\n",
              "      <th>3</th>\n",
              "      <td>MP Classifier</td>\n",
              "      <td>298.665510</td>\n",
              "      <td>0.809514</td>\n",
              "      <td>0.809514</td>\n",
              "      <td>0.809514</td>\n",
              "      <td>0.809514</td>\n",
              "      <td>0.701938</td>\n",
              "      <td>0.701938</td>\n",
              "      <td>0.701938</td>\n",
              "      <td>0.701938</td>\n",
              "    </tr>\n",
              "    <tr>\n",
              "      <th>0</th>\n",
              "      <td>Logistic Regression</td>\n",
              "      <td>105.113424</td>\n",
              "      <td>0.739268</td>\n",
              "      <td>0.739268</td>\n",
              "      <td>0.739268</td>\n",
              "      <td>0.739268</td>\n",
              "      <td>0.633472</td>\n",
              "      <td>0.633472</td>\n",
              "      <td>0.633472</td>\n",
              "      <td>0.633472</td>\n",
              "    </tr>\n",
              "  </tbody>\n",
              "</table>\n",
              "</div>"
            ],
            "text/plain": [
              "            Model Name  CV Fit Time  ...  Test Recall   Test F1\n",
              "2        Random Forest    34.691744  ...     0.756255  0.756255\n",
              "1        Decision Tree     2.957806  ...     0.738935  0.738935\n",
              "3        MP Classifier   298.665510  ...     0.701938  0.701938\n",
              "0  Logistic Regression   105.113424  ...     0.633472  0.633472\n",
              "\n",
              "[4 rows x 10 columns]"
            ]
          },
          "metadata": {
            "tags": []
          },
          "execution_count": 42
        }
      ]
    },
    {
      "cell_type": "markdown",
      "metadata": {
        "id": "3z08wOkFrkPR"
      },
      "source": [
        "The CV results will show how good the model has been trained by using the training data given a set of hyperparameters in the ML model. The metrics of evaluating a model include accuracy, precision, recall, F1 score, AUC value of ROC.\n",
        "\n",
        "For the metric selection we initially considered ‘recall’ for the model comparison as type-2 errors are costly in our domain of cybersecurity. However, if we consider the response towards every false alarm to a normal transactional data as a non-economical affair, we need to incorporate type-1 error as well. So, we sorted our model performance in the given table based on the F-1 score as it is the harmonic mean between the precision and recall, where it’s value swings towards lesser value as compared to Arithmetic Mean and thus helps us to make a better decision about the model without inflating the matrix. Basically, an F1 score reaches its best value at 1 and worst score at 0."
      ]
    },
    {
      "cell_type": "markdown",
      "metadata": {
        "id": "P5W8ETuurkPd"
      },
      "source": [
        "## Partial dependence plots (PDPs)\n",
        "\n",
        "Partial dependence plots (PDPs) show the dependence between the target response $y$ and a set of ‘target’ features $X$, marginalizing over the values of all other features (the ‘complement’ features). Intuitively, we can interpret the partial dependence as the expected target response as a function of the ‘target’ features.\n",
        "\n",
        "`plot_partial_dependence` function has five important arguments to specify which features are plotted.\n",
        "\n",
        "- `estimator`: your fitted model/classifier.\n",
        "- `X`: your training data\n",
        "- `features` : the indexes of your interested features\n",
        "- `feature_names` : the list of the features names in your training data\n",
        "- `target` : In a multi-class setting, specifies the class for which the PDPs should be computed.\n",
        "\n",
        "\n",
        "\n",
        "### Example: PDP for Random Forest\n",
        "\n",
        "Now, we show the the partial dependence plots how features affects predictions. It shows the dependence between the target response and the set of independent features.\n",
        "Here we can see the trend of the features ‘dur’, ‘spkts’, ‘dpkts’, ‘sbytes’, ‘dbytes’, ‘rate’, ‘sload’, ‘dload’, ‘sloss’, ‘dloss’ are more or less constant whereas features like ‘sttl’ and ‘dttl’ show an increasing trend.\n",
        "This may be interpreted as follows that if we observe significant increase/decrease trends then it is highly likely that an attack is happening.\n"
      ]
    },
    {
      "cell_type": "code",
      "metadata": {
        "id": "XWFfCBaqrkPd"
      },
      "source": [
        "# import the plot function\n",
        "from sklearn.inspection import plot_partial_dependence"
      ],
      "execution_count": 43,
      "outputs": []
    },
    {
      "cell_type": "code",
      "metadata": {
        "colab": {
          "base_uri": "https://localhost:8080/"
        },
        "id": "QbJfXAI0rkPf",
        "outputId": "10b353a1-76a6-4cb8-84fe-e449f2f494e1"
      },
      "source": [
        "new_cols = numerical_columns\n",
        "\n",
        "new_cols"
      ],
      "execution_count": 44,
      "outputs": [
        {
          "output_type": "execute_result",
          "data": {
            "text/plain": [
              "Index(['dur', 'spkts', 'dpkts', 'sbytes', 'dbytes', 'rate', 'sttl', 'dttl',\n",
              "       'sload', 'dload', 'sloss', 'dloss', 'sinpkt', 'dinpkt', 'sjit', 'djit',\n",
              "       'swin', 'stcpb', 'dtcpb', 'dwin', 'tcprtt', 'synack', 'ackdat', 'smean',\n",
              "       'dmean', 'trans_depth', 'response_body_len', 'ct_srv_src',\n",
              "       'ct_state_ttl', 'ct_dst_ltm', 'ct_src_dport_ltm', 'ct_dst_sport_ltm',\n",
              "       'ct_dst_src_ltm', 'is_ftp_login', 'ct_ftp_cmd', 'ct_flw_http_mthd',\n",
              "       'ct_src_ltm', 'ct_srv_dst', 'is_sm_ips_ports'],\n",
              "      dtype='object')"
            ]
          },
          "metadata": {
            "tags": []
          },
          "execution_count": 44
        }
      ]
    },
    {
      "cell_type": "code",
      "metadata": {
        "colab": {
          "background_save": true
        },
        "id": "qlajCkdcrkPg",
        "outputId": "ffb86a4c-d391-48e4-99d1-be4b8ea09c91"
      },
      "source": [
        "models[0]"
      ],
      "execution_count": null,
      "outputs": [
        {
          "output_type": "execute_result",
          "data": {
            "text/plain": [
              "('LogisticRegression',\n",
              " LogisticRegression(C=1.0, class_weight=None, dual=False, fit_intercept=True,\n",
              "                    intercept_scaling=1, l1_ratio=None, max_iter=5000,\n",
              "                    multi_class='ovr', n_jobs=None, penalty='l2',\n",
              "                    random_state=123, solver='lbfgs', tol=0.0001, verbose=0,\n",
              "                    warm_start=False))"
            ]
          },
          "metadata": {
            "tags": []
          },
          "execution_count": 0
        }
      ]
    },
    {
      "cell_type": "code",
      "metadata": {
        "id": "wSUVdLKerkPh",
        "colab": {
          "base_uri": "https://localhost:8080/",
          "height": 465
        },
        "outputId": "5369b8d6-28ce-4808-9317-12e1d17a19d5"
      },
      "source": [
        "clf_name = models[2][0] # the classifier name\n",
        "clf = models[2][1] # the classifier itself\n",
        "\n",
        "features = [0,1,2,3,4]\n",
        "plot_partial_dependence(estimator=clf, X=X_train_trans, \n",
        "                        features=features, feature_names=new_cols,\n",
        "                        target=1)\n",
        "\n",
        "fig = plt.gcf() # get current figure (gcf)\n",
        "fig.suptitle(\"Partial dependence of Attack Type on all features\\n\"\n",
        "              \"with {}\".format(clf_name))\n",
        "fig.set_size_inches(10.5, 6.5)\n",
        "fig.subplots_adjust(hspace=0.3)"
      ],
      "execution_count": 45,
      "outputs": [
        {
          "output_type": "display_data",
          "data": {
            "image/png": "[encoded data removed]",
            "text/plain": [
              "<Figure size 756x468 with 6 Axes>"
            ]
          },
          "metadata": {
            "tags": [],
            "needs_background": "light"
          }
        }
      ]
    },
    {
      "cell_type": "code",
      "metadata": {
        "id": "oHrG36czrkPh",
        "colab": {
          "base_uri": "https://localhost:8080/",
          "height": 465
        },
        "outputId": "8d2bb997-d5c5-41bc-b3d5-a82d3bdc3944"
      },
      "source": [
        "clf_name = models[2][0] # the classifier name\n",
        "clf = models[2][1] # the classifier itself\n",
        "\n",
        "features = [5,6,7,8,9,10]\n",
        "plot_partial_dependence(estimator=clf, X=X_train_trans, \n",
        "                        features=features, feature_names=new_cols,\n",
        "                        target=1)\n",
        "\n",
        "fig = plt.gcf() # get current figure (gcf)\n",
        "fig.suptitle(\"Partial dependence of Attack Type on all features\\n\"\n",
        "              \"with {}\".format(clf_name))\n",
        "fig.set_size_inches(10.5, 6.5)\n",
        "fig.subplots_adjust(hspace=0.3)"
      ],
      "execution_count": 46,
      "outputs": [
        {
          "output_type": "display_data",
          "data": {
            "image/png": "[encoded data removed]",
            "text/plain": [
              "<Figure size 756x468 with 7 Axes>"
            ]
          },
          "metadata": {
            "tags": [],
            "needs_background": "light"
          }
        }
      ]
    },
    {
      "cell_type": "code",
      "metadata": {
        "id": "msaYo28mrkPi",
        "colab": {
          "base_uri": "https://localhost:8080/",
          "height": 465
        },
        "outputId": "4608411a-cc06-42a4-9ce0-a20f8549f449"
      },
      "source": [
        "clf_name = models[2][0] # the classifier name\n",
        "clf = models[2][1] # the classifier itself\n",
        "\n",
        "features = [11,12,13,14,15,16]\n",
        "plot_partial_dependence(estimator=clf, X=X_train_trans, \n",
        "                        features=features, feature_names=new_cols,\n",
        "                        target=1)\n",
        "\n",
        "fig = plt.gcf() # get current figure (gcf)\n",
        "fig.suptitle(\"Partial dependence of Attack Type on all features\\n\"\n",
        "              \"with {}\".format(clf_name))\n",
        "fig.set_size_inches(10.5, 6.5)\n",
        "fig.subplots_adjust(hspace=0.3)"
      ],
      "execution_count": 47,
      "outputs": [
        {
          "output_type": "display_data",
          "data": {
            "image/png": "[encoded data removed]",
            "text/plain": [
              "<Figure size 756x468 with 7 Axes>"
            ]
          },
          "metadata": {
            "tags": [],
            "needs_background": "light"
          }
        }
      ]
    },
    {
      "cell_type": "code",
      "metadata": {
        "id": "_kzyuOOJrkPm",
        "colab": {
          "base_uri": "https://localhost:8080/",
          "height": 465
        },
        "outputId": "06af5e22-593a-48a2-edfb-64c835f8cecc"
      },
      "source": [
        "features = [(28, 29)]\n",
        "plot_partial_dependence(estimator=clf, X=X_train_trans, \n",
        "                        features=features, feature_names=new_cols,\n",
        "                        target=1)\n",
        "\n",
        "fig = plt.gcf() # get current figure (gcf)\n",
        "fig.suptitle(\"Partial dependence of Attack Type  on the joint of ct_state_ttl and ct_dst_ltm\\n\"\n",
        "              \"with {}\".format(clf_name))\n",
        "fig.set_size_inches(7.5, 6.5)\n",
        "fig.subplots_adjust(hspace=0.3)\n",
        "#We can do whatever we want in this code, cause our data features are too many, here just show one instance."
      ],
      "execution_count": 48,
      "outputs": [
        {
          "output_type": "display_data",
          "data": {
            "image/png": "[encoded data removed]",
            "text/plain": [
              "<Figure size 540x468 with 2 Axes>"
            ]
          },
          "metadata": {
            "tags": [],
            "needs_background": "light"
          }
        }
      ]
    },
    {
      "cell_type": "code",
      "metadata": {
        "id": "sdfIB7vPrkPn",
        "colab": {
          "base_uri": "https://localhost:8080/",
          "height": 465
        },
        "outputId": "c20ccd29-ca68-4d98-cd69-dc950272a20d"
      },
      "source": [
        "features = [28, 29, (28, 29)]\n",
        "plot_partial_dependence(estimator=clf, X=X_train_trans, \n",
        "                        features=features, feature_names=new_cols,\n",
        "                        target=1)\n",
        "\n",
        "fig = plt.gcf() # get current figure (gcf)\n",
        "fig.suptitle(\"Partial dependence of Attack Type on ct_state_ttl and ct_dst_ltm (one-way and two-way)\\n\"\n",
        "              \"with {}\".format(clf_name))\n",
        "fig.set_size_inches(16.5, 6.5)\n",
        "fig.subplots_adjust(wspace = 0.3, hspace=0.9)"
      ],
      "execution_count": 49,
      "outputs": [
        {
          "output_type": "display_data",
          "data": {
            "image/png": "[encoded data removed]",
            "text/plain": [
              "<Figure size 1188x468 with 4 Axes>"
            ]
          },
          "metadata": {
            "tags": [],
            "needs_background": "light"
          }
        }
      ]
    },
    {
      "cell_type": "markdown",
      "metadata": {
        "id": "5weHjr9drkPp"
      },
      "source": [
        "## Permutation Feature Importance \n",
        "\n",
        "The next grpah gives the answer for the question \"What features have the biggest impact on predictions\".\n",
        "Feature Importance uses a unique approach.Feature Importance measures the decrease in model score when a single feature is randomly shuffled and the other features are kept constant, thus more the decrease in score(accuracy) more the impact of feature on the prediction.\n",
        "We import permutation_importance from sklearn to implement feature importance. \n",
        "\n",
        "feature importance function has six important arguments to specify which features are plotted.\n",
        "\n",
        "estimator: your fitted model/classifier.(model that we used was Random Forest)\n",
        "X: your training data\n",
        "y:Result Data\n",
        "scoring: what type of score you want to check against the feature\n",
        "n-repeats: number of times you want to shuffle the data\n",
        "random-state)\n",
        "\n",
        "It returns the sample of datas like the feature_names, importance_means,importance_std, etc.\n",
        " "
      ]
    },
    {
      "cell_type": "code",
      "metadata": {
        "id": "_0egSBzmrkPq"
      },
      "source": [
        "# import permutation function\n",
        "from sklearn.inspection import permutation_importance"
      ],
      "execution_count": 50,
      "outputs": []
    },
    {
      "cell_type": "markdown",
      "metadata": {
        "id": "9XpNJ6EMrkPq"
      },
      "source": [
        "### Example: Permutation Feature Importance for Random Forest\n",
        "\n",
        "#### Permutation Feature Importance on Training Data\n",
        "Here we see, the feature interpretation for the training set. We can interpret these as follows that the top values are the most important features and those in bottom matter least and for the training dataset plots here, the features swin, dttl, dload have higher importance. Also, we can interpret that the removal of the most important feature, swin leaving the target and all other problems in place decreases the accuracy score of the prediction approximately by 24%\n",
        "\n",
        "\n",
        ". "
      ]
    },
    {
      "cell_type": "code",
      "metadata": {
        "id": "jW255pugrkPr",
        "colab": {
          "base_uri": "https://localhost:8080/",
          "height": 788
        },
        "outputId": "8c9aa4de-5a87-499e-d12b-7d7135b76a5c"
      },
      "source": [
        "clf_name = models[2][0]\n",
        "clf = models[2][1]\n",
        "result = permutation_importance(estimator=clf, \n",
        "                                X=X_train_trans, \n",
        "                                y=y1_train_trans, \n",
        "                                scoring=\"accuracy\",\n",
        "                                n_repeats=50,\n",
        "                                random_state=123)\n",
        "sorted_idx = result.importances_mean.argsort()\n",
        "\n",
        "fig, ax = plt.subplots()\n",
        "\n",
        "ax.boxplot(result.importances[sorted_idx].T,\n",
        "           vert=False, labels=np.array(new_cols)[sorted_idx])\n",
        "ax.set_title(\"Permutation Importances (training set)\\n\"\n",
        "            \"with {}\".format(clf_name))\n",
        "\n",
        "fig.set_size_inches(15, 13)\n",
        "plt.show()"
      ],
      "execution_count": 52,
      "outputs": [
        {
          "output_type": "display_data",
          "data": {
            "image/png": "[encoded data removed]",
            "text/plain": [
              "<Figure size 1080x936 with 1 Axes>"
            ]
          },
          "metadata": {
            "tags": [],
            "needs_background": "light"
          }
        }
      ]
    },
    {
      "cell_type": "markdown",
      "metadata": {
        "id": "pUItUxUqrkPs"
      },
      "source": [
        "Here we have the Permutation feature importance, of the testing set, the result obtained are almost identical to training set , where swin is the most important feature, for making accurate predictions."
      ]
    },
    {
      "cell_type": "code",
      "metadata": {
        "id": "kbocXARjrkPt",
        "colab": {
          "base_uri": "https://localhost:8080/",
          "height": 788
        },
        "outputId": "fd5266e2-ba98-4ef7-f1cf-28cee58b1d70"
      },
      "source": [
        "result = permutation_importance(estimator=clf, \n",
        "                                X=X_test_trans, \n",
        "                                y=y1_test_trans, \n",
        "                                scoring=\"accuracy\",\n",
        "                                n_repeats=50,\n",
        "                                random_state=123)\n",
        "sorted_idx = result.importances_mean.argsort()\n",
        "\n",
        "fig, ax = plt.subplots()\n",
        "\n",
        "ax.boxplot(result.importances[sorted_idx].T,\n",
        "           vert=False, labels=np.array(new_cols)[sorted_idx])\n",
        "ax.set_title(\"Permutation Importances (hold-out testing set)\\n\"\n",
        "            \"with {}\".format(clf_name))\n",
        "fig.set_size_inches(15, 13)\n",
        "\n",
        "plt.show()"
      ],
      "execution_count": 53,
      "outputs": [
        {
          "output_type": "display_data",
          "data": {
            "image/png": "[encoded data removed]",
            "text/plain": [
              "<Figure size 1080x936 with 1 Axes>"
            ]
          },
          "metadata": {
            "tags": [],
            "needs_background": "light"
          }
        }
      ]
    }
  ]
}